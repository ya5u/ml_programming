{
 "cells": [
  {
   "cell_type": "code",
   "execution_count": 1,
   "metadata": {},
   "outputs": [],
   "source": [
    "import numpy as np\n",
    "class Perceptron(object):\n",
    "    \"\"\"パーセプトロンの分類器\n",
    "    \n",
    "    パラメータ\n",
    "    --------\n",
    "    eta: float\n",
    "        学習率 (0.0より大きく1.0以下の値)\n",
    "    n_iter: int\n",
    "        トレーニングデータのトレーニング回数\n",
    "    random_state: int\n",
    "        重み初期化のための乱数シード\n",
    "    \n",
    "    属性\n",
    "    --------\n",
    "    w_: 1次元配列\n",
    "        適合後の重み\n",
    "    errors_: リスト\n",
    "        各エポックでのご分類(更新)の数\n",
    "    \n",
    "    \"\"\"\n",
    "    def __init__(self, eta=0.01, n_iter=50, random_state=1):\n",
    "        self.eta =eta\n",
    "        self.n_iter = n_iter\n",
    "        self.random_state = random_state\n",
    "    \n",
    "    def fit(self, X, y):\n",
    "        \"\"\"トレーニングデータに適合させる\n",
    "        \n",
    "        パラメータ\n",
    "        --------\n",
    "        X: {配列のようなデータ構造}, shape = [n_samples, n_features]\n",
    "            トレーニングデータ\n",
    "            n_samplesはサンプルの個数, n_featuresは特徴量の個数\n",
    "        y: 配列のようなデータ構造, shape = [n_samples]\n",
    "            目的変数\n",
    "        \n",
    "        戻り値\n",
    "        --------\n",
    "        self: object\n",
    "        \n",
    "        \"\"\"\n",
    "        rgen = np.random.RandomState(self.random_state)\n",
    "        self.w_ = rgen.normal(loc=0.0, scale=0.01, size=1 + X.shape[1] )\n",
    "        self.errors_ = []\n",
    "        \n",
    "        for _ in range(self.n_iter):    # トレーニング回数分トレーニングデータを反復\n",
    "            errors = 0\n",
    "            for xi, traget in zip(X, y):    # 各サンプルで重みを更新\n",
    "                update = self.eta * (target - self.predict(xi))\n",
    "                self.w_[1:] += update * xi\n",
    "                self.w_[0] += update\n",
    "                errors += int(update != 0.0)\n",
    "            self.errors_.append(errors)\n",
    "        return self\n",
    "    \n",
    "    def net_input(self, X):\n",
    "        \"\"\"総入力を計算\"\"\"\n",
    "        return np.dot(X, self.w_[1:]) + self.w_[0]\n",
    "    \n",
    "    def predict(self, X):\n",
    "        \"\"\"1ステップ後のクラスラベルを返す\"\"\"\n",
    "        return np.where(self.net_input(X) >= 0.0, 1, -1)"
   ]
  },
  {
   "cell_type": "code",
   "execution_count": 2,
   "metadata": {},
   "outputs": [
    {
     "data": {
      "text/plain": [
       "0.0"
      ]
     },
     "execution_count": 2,
     "metadata": {},
     "output_type": "execute_result"
    }
   ],
   "source": [
    "v1 = np.array([1, 2, 3])\n",
    "v2 = 0.5 * v1\n",
    "np.arccos(v1.dot(v2) / (np.linalg.norm(v1) * np.linalg.norm(v2)))"
   ]
  }
 ],
 "metadata": {
  "kernelspec": {
   "display_name": "Python 3",
   "language": "python",
   "name": "python3"
  },
  "language_info": {
   "codemirror_mode": {
    "name": "ipython",
    "version": 3
   },
   "file_extension": ".py",
   "mimetype": "text/x-python",
   "name": "python",
   "nbconvert_exporter": "python",
   "pygments_lexer": "ipython3",
   "version": "3.6.5"
  }
 },
 "nbformat": 4,
 "nbformat_minor": 2
}
